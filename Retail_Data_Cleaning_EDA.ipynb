{
  "nbformat": 4,
  "nbformat_minor": 0,
  "metadata": {
    "colab": {
      "provenance": [],
      "authorship_tag": "ABX9TyNXjHFQT0Kl1RdzMGiL3O+E",
      "include_colab_link": true
    },
    "kernelspec": {
      "name": "python3",
      "display_name": "Python 3"
    },
    "language_info": {
      "name": "python"
    }
  },
  "cells": [
    {
      "cell_type": "markdown",
      "metadata": {
        "id": "view-in-github",
        "colab_type": "text"
      },
      "source": [
        "<a href=\"https://colab.research.google.com/github/prateekkosta/Customer-Sales-Analysis-Dashbord-in-Power-BI/blob/main/Retail_Data_Cleaning_EDA.ipynb\" target=\"_parent\"><img src=\"https://colab.research.google.com/assets/colab-badge.svg\" alt=\"Open In Colab\"/></a>"
      ]
    },
    {
      "cell_type": "markdown",
      "source": [
        "**Objective**- Perform EDA to find out how many customers are happy with the product and service provided by the retail company."
      ],
      "metadata": {
        "id": "f4Zvi2EDY9Me"
      }
    },
    {
      "cell_type": "code",
      "execution_count": 1,
      "metadata": {
        "id": "uDEWmy36Yez5"
      },
      "outputs": [],
      "source": [
        "import os\n",
        "import numpy as np\n",
        "import pandas as pd\n",
        "import matplotlib.pyplot as plt\n",
        "import seaborn as sns"
      ]
    },
    {
      "cell_type": "code",
      "source": [],
      "metadata": {
        "id": "dpbFhhI1Y5rS"
      },
      "execution_count": 1,
      "outputs": []
    },
    {
      "cell_type": "markdown",
      "source": [
        "**Reading Data**"
      ],
      "metadata": {
        "id": "GwrWZOa1aPqw"
      }
    },
    {
      "cell_type": "code",
      "source": [
        "dirty_data= pd.read_csv('dirty_data.csv')\n",
        "dirty_data.head()"
      ],
      "metadata": {
        "colab": {
          "base_uri": "https://localhost:8080/",
          "height": 478
        },
        "id": "fatH6QHTY5to",
        "outputId": "f6a49409-2a9d-45f0-e70c-b2f13885d0f0"
      },
      "execution_count": 2,
      "outputs": [
        {
          "output_type": "execute_result",
          "data": {
            "text/plain": [
              "    order_id   customer_id        date nearest_warehouse  \\\n",
              "0  ORD182494  ID6197211592  22/06/2019          Thompson   \n",
              "1  ORD395518  ID0282825849  29/12/2019          Thompson   \n",
              "2  ORD494479  ID0579391891  02/03/2019         Nickolson   \n",
              "3  ORD019224  ID4544561904  12/01/2019         Nickolson   \n",
              "4  ORD104032  ID6231506320  28/11/2019         Nickolson   \n",
              "\n",
              "                                       shopping_cart  order_price  \\\n",
              "0  [('Lucent 330S', 1), ('Thunder line', 2), ('iS...      12200.0   \n",
              "1        [('Thunder line', 1), ('Universe Note', 2)]       9080.0   \n",
              "2               [('Thunder line', 1), ('pearTV', 2)]      10670.0   \n",
              "3  [('Universe Note', 1), ('Alcon 10', 2), ('Oliv...      24800.0   \n",
              "4  [('Universe Note', 1), ('Olivia x460', 1), ('i...       9145.0   \n",
              "\n",
              "   delivery_charges  customer_lat  customer_long  coupon_discount order_total  \\\n",
              "0             79.89    -37.815105     144.932843               10    11059.89   \n",
              "1             62.71    -37.802736     144.951118                0     9142.71   \n",
              "2             65.87    -37.821302     144.957581               10     9668.87   \n",
              "3             57.61    -37.811416     144.973073               15    21137.61   \n",
              "4             75.54     37.823859     144.969892               25     6934.29   \n",
              "\n",
              "   season  is_expedited_delivery  distance_to_nearest_warehouse  \\\n",
              "0  Winter                   True                         1.2800   \n",
              "1  Summer                  False                         1.1621   \n",
              "2  Autumn                  False                         1.0949   \n",
              "3  Summer                  False                         0.8571   \n",
              "4  Spring                  False                         0.5867   \n",
              "\n",
              "                              latest_customer_review is_happy_customer  \n",
              "0  perfect phone and trusted seller. phone itself...              True  \n",
              "1  it keeps dropping calls the wifi don't work th...             False  \n",
              "2            five stars this is a great cheap phone.              True  \n",
              "3        charger did not fit the charger didn't fit.             False  \n",
              "4                                    four stars good              True  "
            ],
            "text/html": [
              "\n",
              "  <div id=\"df-723adb46-3cfd-4a9d-b77f-692e8789e2d5\">\n",
              "    <div class=\"colab-df-container\">\n",
              "      <div>\n",
              "<style scoped>\n",
              "    .dataframe tbody tr th:only-of-type {\n",
              "        vertical-align: middle;\n",
              "    }\n",
              "\n",
              "    .dataframe tbody tr th {\n",
              "        vertical-align: top;\n",
              "    }\n",
              "\n",
              "    .dataframe thead th {\n",
              "        text-align: right;\n",
              "    }\n",
              "</style>\n",
              "<table border=\"1\" class=\"dataframe\">\n",
              "  <thead>\n",
              "    <tr style=\"text-align: right;\">\n",
              "      <th></th>\n",
              "      <th>order_id</th>\n",
              "      <th>customer_id</th>\n",
              "      <th>date</th>\n",
              "      <th>nearest_warehouse</th>\n",
              "      <th>shopping_cart</th>\n",
              "      <th>order_price</th>\n",
              "      <th>delivery_charges</th>\n",
              "      <th>customer_lat</th>\n",
              "      <th>customer_long</th>\n",
              "      <th>coupon_discount</th>\n",
              "      <th>order_total</th>\n",
              "      <th>season</th>\n",
              "      <th>is_expedited_delivery</th>\n",
              "      <th>distance_to_nearest_warehouse</th>\n",
              "      <th>latest_customer_review</th>\n",
              "      <th>is_happy_customer</th>\n",
              "    </tr>\n",
              "  </thead>\n",
              "  <tbody>\n",
              "    <tr>\n",
              "      <th>0</th>\n",
              "      <td>ORD182494</td>\n",
              "      <td>ID6197211592</td>\n",
              "      <td>22/06/2019</td>\n",
              "      <td>Thompson</td>\n",
              "      <td>[('Lucent 330S', 1), ('Thunder line', 2), ('iS...</td>\n",
              "      <td>12200.0</td>\n",
              "      <td>79.89</td>\n",
              "      <td>-37.815105</td>\n",
              "      <td>144.932843</td>\n",
              "      <td>10</td>\n",
              "      <td>11059.89</td>\n",
              "      <td>Winter</td>\n",
              "      <td>True</td>\n",
              "      <td>1.2800</td>\n",
              "      <td>perfect phone and trusted seller. phone itself...</td>\n",
              "      <td>True</td>\n",
              "    </tr>\n",
              "    <tr>\n",
              "      <th>1</th>\n",
              "      <td>ORD395518</td>\n",
              "      <td>ID0282825849</td>\n",
              "      <td>29/12/2019</td>\n",
              "      <td>Thompson</td>\n",
              "      <td>[('Thunder line', 1), ('Universe Note', 2)]</td>\n",
              "      <td>9080.0</td>\n",
              "      <td>62.71</td>\n",
              "      <td>-37.802736</td>\n",
              "      <td>144.951118</td>\n",
              "      <td>0</td>\n",
              "      <td>9142.71</td>\n",
              "      <td>Summer</td>\n",
              "      <td>False</td>\n",
              "      <td>1.1621</td>\n",
              "      <td>it keeps dropping calls the wifi don't work th...</td>\n",
              "      <td>False</td>\n",
              "    </tr>\n",
              "    <tr>\n",
              "      <th>2</th>\n",
              "      <td>ORD494479</td>\n",
              "      <td>ID0579391891</td>\n",
              "      <td>02/03/2019</td>\n",
              "      <td>Nickolson</td>\n",
              "      <td>[('Thunder line', 1), ('pearTV', 2)]</td>\n",
              "      <td>10670.0</td>\n",
              "      <td>65.87</td>\n",
              "      <td>-37.821302</td>\n",
              "      <td>144.957581</td>\n",
              "      <td>10</td>\n",
              "      <td>9668.87</td>\n",
              "      <td>Autumn</td>\n",
              "      <td>False</td>\n",
              "      <td>1.0949</td>\n",
              "      <td>five stars this is a great cheap phone.</td>\n",
              "      <td>True</td>\n",
              "    </tr>\n",
              "    <tr>\n",
              "      <th>3</th>\n",
              "      <td>ORD019224</td>\n",
              "      <td>ID4544561904</td>\n",
              "      <td>12/01/2019</td>\n",
              "      <td>Nickolson</td>\n",
              "      <td>[('Universe Note', 1), ('Alcon 10', 2), ('Oliv...</td>\n",
              "      <td>24800.0</td>\n",
              "      <td>57.61</td>\n",
              "      <td>-37.811416</td>\n",
              "      <td>144.973073</td>\n",
              "      <td>15</td>\n",
              "      <td>21137.61</td>\n",
              "      <td>Summer</td>\n",
              "      <td>False</td>\n",
              "      <td>0.8571</td>\n",
              "      <td>charger did not fit the charger didn't fit.</td>\n",
              "      <td>False</td>\n",
              "    </tr>\n",
              "    <tr>\n",
              "      <th>4</th>\n",
              "      <td>ORD104032</td>\n",
              "      <td>ID6231506320</td>\n",
              "      <td>28/11/2019</td>\n",
              "      <td>Nickolson</td>\n",
              "      <td>[('Universe Note', 1), ('Olivia x460', 1), ('i...</td>\n",
              "      <td>9145.0</td>\n",
              "      <td>75.54</td>\n",
              "      <td>37.823859</td>\n",
              "      <td>144.969892</td>\n",
              "      <td>25</td>\n",
              "      <td>6934.29</td>\n",
              "      <td>Spring</td>\n",
              "      <td>False</td>\n",
              "      <td>0.5867</td>\n",
              "      <td>four stars good</td>\n",
              "      <td>True</td>\n",
              "    </tr>\n",
              "  </tbody>\n",
              "</table>\n",
              "</div>\n",
              "      <button class=\"colab-df-convert\" onclick=\"convertToInteractive('df-723adb46-3cfd-4a9d-b77f-692e8789e2d5')\"\n",
              "              title=\"Convert this dataframe to an interactive table.\"\n",
              "              style=\"display:none;\">\n",
              "        \n",
              "  <svg xmlns=\"http://www.w3.org/2000/svg\" height=\"24px\"viewBox=\"0 0 24 24\"\n",
              "       width=\"24px\">\n",
              "    <path d=\"M0 0h24v24H0V0z\" fill=\"none\"/>\n",
              "    <path d=\"M18.56 5.44l.94 2.06.94-2.06 2.06-.94-2.06-.94-.94-2.06-.94 2.06-2.06.94zm-11 1L8.5 8.5l.94-2.06 2.06-.94-2.06-.94L8.5 2.5l-.94 2.06-2.06.94zm10 10l.94 2.06.94-2.06 2.06-.94-2.06-.94-.94-2.06-.94 2.06-2.06.94z\"/><path d=\"M17.41 7.96l-1.37-1.37c-.4-.4-.92-.59-1.43-.59-.52 0-1.04.2-1.43.59L10.3 9.45l-7.72 7.72c-.78.78-.78 2.05 0 2.83L4 21.41c.39.39.9.59 1.41.59.51 0 1.02-.2 1.41-.59l7.78-7.78 2.81-2.81c.8-.78.8-2.07 0-2.86zM5.41 20L4 18.59l7.72-7.72 1.47 1.35L5.41 20z\"/>\n",
              "  </svg>\n",
              "      </button>\n",
              "      \n",
              "  <style>\n",
              "    .colab-df-container {\n",
              "      display:flex;\n",
              "      flex-wrap:wrap;\n",
              "      gap: 12px;\n",
              "    }\n",
              "\n",
              "    .colab-df-convert {\n",
              "      background-color: #E8F0FE;\n",
              "      border: none;\n",
              "      border-radius: 50%;\n",
              "      cursor: pointer;\n",
              "      display: none;\n",
              "      fill: #1967D2;\n",
              "      height: 32px;\n",
              "      padding: 0 0 0 0;\n",
              "      width: 32px;\n",
              "    }\n",
              "\n",
              "    .colab-df-convert:hover {\n",
              "      background-color: #E2EBFA;\n",
              "      box-shadow: 0px 1px 2px rgba(60, 64, 67, 0.3), 0px 1px 3px 1px rgba(60, 64, 67, 0.15);\n",
              "      fill: #174EA6;\n",
              "    }\n",
              "\n",
              "    [theme=dark] .colab-df-convert {\n",
              "      background-color: #3B4455;\n",
              "      fill: #D2E3FC;\n",
              "    }\n",
              "\n",
              "    [theme=dark] .colab-df-convert:hover {\n",
              "      background-color: #434B5C;\n",
              "      box-shadow: 0px 1px 3px 1px rgba(0, 0, 0, 0.15);\n",
              "      filter: drop-shadow(0px 1px 2px rgba(0, 0, 0, 0.3));\n",
              "      fill: #FFFFFF;\n",
              "    }\n",
              "  </style>\n",
              "\n",
              "      <script>\n",
              "        const buttonEl =\n",
              "          document.querySelector('#df-723adb46-3cfd-4a9d-b77f-692e8789e2d5 button.colab-df-convert');\n",
              "        buttonEl.style.display =\n",
              "          google.colab.kernel.accessAllowed ? 'block' : 'none';\n",
              "\n",
              "        async function convertToInteractive(key) {\n",
              "          const element = document.querySelector('#df-723adb46-3cfd-4a9d-b77f-692e8789e2d5');\n",
              "          const dataTable =\n",
              "            await google.colab.kernel.invokeFunction('convertToInteractive',\n",
              "                                                     [key], {});\n",
              "          if (!dataTable) return;\n",
              "\n",
              "          const docLinkHtml = 'Like what you see? Visit the ' +\n",
              "            '<a target=\"_blank\" href=https://colab.research.google.com/notebooks/data_table.ipynb>data table notebook</a>'\n",
              "            + ' to learn more about interactive tables.';\n",
              "          element.innerHTML = '';\n",
              "          dataTable['output_type'] = 'display_data';\n",
              "          await google.colab.output.renderOutput(dataTable, element);\n",
              "          const docLink = document.createElement('div');\n",
              "          docLink.innerHTML = docLinkHtml;\n",
              "          element.appendChild(docLink);\n",
              "        }\n",
              "      </script>\n",
              "    </div>\n",
              "  </div>\n",
              "  "
            ]
          },
          "metadata": {},
          "execution_count": 2
        }
      ]
    },
    {
      "cell_type": "code",
      "source": [],
      "metadata": {
        "id": "yyVzS2u4Y5wQ"
      },
      "execution_count": 2,
      "outputs": []
    },
    {
      "cell_type": "markdown",
      "source": [
        "Get The Description of Data"
      ],
      "metadata": {
        "id": "iDQWOlJwayNI"
      }
    },
    {
      "cell_type": "code",
      "source": [
        "dirty_data.describe()"
      ],
      "metadata": {
        "colab": {
          "base_uri": "https://localhost:8080/",
          "height": 300
        },
        "id": "A1F4oQL6Y508",
        "outputId": "45856c57-0706-43b0-e507-53efea618ba1"
      },
      "execution_count": 3,
      "outputs": [
        {
          "output_type": "execute_result",
          "data": {
            "text/plain": [
              "         order_price  delivery_charges  customer_lat  customer_long  \\\n",
              "count     498.000000        496.000000    500.000000     500.000000   \n",
              "mean    25585.387550         76.679819    -35.835234     144.969494   \n",
              "std     86501.420493         14.529621     12.045393       0.022720   \n",
              "min       585.000000         46.350000    -37.827123     144.924967   \n",
              "25%      7050.000000         65.892500    -37.818222     144.953488   \n",
              "50%     12865.000000         76.335000    -37.812165     144.965357   \n",
              "75%     20360.000000         82.817500    -37.805364     144.983985   \n",
              "max    947691.000000        114.040000     37.826339     145.019837   \n",
              "\n",
              "       coupon_discount  distance_to_nearest_warehouse  \n",
              "count       500.000000                     500.000000  \n",
              "mean         10.890000                       2.204224  \n",
              "std           8.649134                       8.812416  \n",
              "min           0.000000                       0.107800  \n",
              "25%           5.000000                       0.751425  \n",
              "50%          10.000000                       1.030100  \n",
              "75%          15.000000                       1.408625  \n",
              "max          25.000000                      94.973400  "
            ],
            "text/html": [
              "\n",
              "  <div id=\"df-1e959896-af23-49c3-86c0-53087194a061\">\n",
              "    <div class=\"colab-df-container\">\n",
              "      <div>\n",
              "<style scoped>\n",
              "    .dataframe tbody tr th:only-of-type {\n",
              "        vertical-align: middle;\n",
              "    }\n",
              "\n",
              "    .dataframe tbody tr th {\n",
              "        vertical-align: top;\n",
              "    }\n",
              "\n",
              "    .dataframe thead th {\n",
              "        text-align: right;\n",
              "    }\n",
              "</style>\n",
              "<table border=\"1\" class=\"dataframe\">\n",
              "  <thead>\n",
              "    <tr style=\"text-align: right;\">\n",
              "      <th></th>\n",
              "      <th>order_price</th>\n",
              "      <th>delivery_charges</th>\n",
              "      <th>customer_lat</th>\n",
              "      <th>customer_long</th>\n",
              "      <th>coupon_discount</th>\n",
              "      <th>distance_to_nearest_warehouse</th>\n",
              "    </tr>\n",
              "  </thead>\n",
              "  <tbody>\n",
              "    <tr>\n",
              "      <th>count</th>\n",
              "      <td>498.000000</td>\n",
              "      <td>496.000000</td>\n",
              "      <td>500.000000</td>\n",
              "      <td>500.000000</td>\n",
              "      <td>500.000000</td>\n",
              "      <td>500.000000</td>\n",
              "    </tr>\n",
              "    <tr>\n",
              "      <th>mean</th>\n",
              "      <td>25585.387550</td>\n",
              "      <td>76.679819</td>\n",
              "      <td>-35.835234</td>\n",
              "      <td>144.969494</td>\n",
              "      <td>10.890000</td>\n",
              "      <td>2.204224</td>\n",
              "    </tr>\n",
              "    <tr>\n",
              "      <th>std</th>\n",
              "      <td>86501.420493</td>\n",
              "      <td>14.529621</td>\n",
              "      <td>12.045393</td>\n",
              "      <td>0.022720</td>\n",
              "      <td>8.649134</td>\n",
              "      <td>8.812416</td>\n",
              "    </tr>\n",
              "    <tr>\n",
              "      <th>min</th>\n",
              "      <td>585.000000</td>\n",
              "      <td>46.350000</td>\n",
              "      <td>-37.827123</td>\n",
              "      <td>144.924967</td>\n",
              "      <td>0.000000</td>\n",
              "      <td>0.107800</td>\n",
              "    </tr>\n",
              "    <tr>\n",
              "      <th>25%</th>\n",
              "      <td>7050.000000</td>\n",
              "      <td>65.892500</td>\n",
              "      <td>-37.818222</td>\n",
              "      <td>144.953488</td>\n",
              "      <td>5.000000</td>\n",
              "      <td>0.751425</td>\n",
              "    </tr>\n",
              "    <tr>\n",
              "      <th>50%</th>\n",
              "      <td>12865.000000</td>\n",
              "      <td>76.335000</td>\n",
              "      <td>-37.812165</td>\n",
              "      <td>144.965357</td>\n",
              "      <td>10.000000</td>\n",
              "      <td>1.030100</td>\n",
              "    </tr>\n",
              "    <tr>\n",
              "      <th>75%</th>\n",
              "      <td>20360.000000</td>\n",
              "      <td>82.817500</td>\n",
              "      <td>-37.805364</td>\n",
              "      <td>144.983985</td>\n",
              "      <td>15.000000</td>\n",
              "      <td>1.408625</td>\n",
              "    </tr>\n",
              "    <tr>\n",
              "      <th>max</th>\n",
              "      <td>947691.000000</td>\n",
              "      <td>114.040000</td>\n",
              "      <td>37.826339</td>\n",
              "      <td>145.019837</td>\n",
              "      <td>25.000000</td>\n",
              "      <td>94.973400</td>\n",
              "    </tr>\n",
              "  </tbody>\n",
              "</table>\n",
              "</div>\n",
              "      <button class=\"colab-df-convert\" onclick=\"convertToInteractive('df-1e959896-af23-49c3-86c0-53087194a061')\"\n",
              "              title=\"Convert this dataframe to an interactive table.\"\n",
              "              style=\"display:none;\">\n",
              "        \n",
              "  <svg xmlns=\"http://www.w3.org/2000/svg\" height=\"24px\"viewBox=\"0 0 24 24\"\n",
              "       width=\"24px\">\n",
              "    <path d=\"M0 0h24v24H0V0z\" fill=\"none\"/>\n",
              "    <path d=\"M18.56 5.44l.94 2.06.94-2.06 2.06-.94-2.06-.94-.94-2.06-.94 2.06-2.06.94zm-11 1L8.5 8.5l.94-2.06 2.06-.94-2.06-.94L8.5 2.5l-.94 2.06-2.06.94zm10 10l.94 2.06.94-2.06 2.06-.94-2.06-.94-.94-2.06-.94 2.06-2.06.94z\"/><path d=\"M17.41 7.96l-1.37-1.37c-.4-.4-.92-.59-1.43-.59-.52 0-1.04.2-1.43.59L10.3 9.45l-7.72 7.72c-.78.78-.78 2.05 0 2.83L4 21.41c.39.39.9.59 1.41.59.51 0 1.02-.2 1.41-.59l7.78-7.78 2.81-2.81c.8-.78.8-2.07 0-2.86zM5.41 20L4 18.59l7.72-7.72 1.47 1.35L5.41 20z\"/>\n",
              "  </svg>\n",
              "      </button>\n",
              "      \n",
              "  <style>\n",
              "    .colab-df-container {\n",
              "      display:flex;\n",
              "      flex-wrap:wrap;\n",
              "      gap: 12px;\n",
              "    }\n",
              "\n",
              "    .colab-df-convert {\n",
              "      background-color: #E8F0FE;\n",
              "      border: none;\n",
              "      border-radius: 50%;\n",
              "      cursor: pointer;\n",
              "      display: none;\n",
              "      fill: #1967D2;\n",
              "      height: 32px;\n",
              "      padding: 0 0 0 0;\n",
              "      width: 32px;\n",
              "    }\n",
              "\n",
              "    .colab-df-convert:hover {\n",
              "      background-color: #E2EBFA;\n",
              "      box-shadow: 0px 1px 2px rgba(60, 64, 67, 0.3), 0px 1px 3px 1px rgba(60, 64, 67, 0.15);\n",
              "      fill: #174EA6;\n",
              "    }\n",
              "\n",
              "    [theme=dark] .colab-df-convert {\n",
              "      background-color: #3B4455;\n",
              "      fill: #D2E3FC;\n",
              "    }\n",
              "\n",
              "    [theme=dark] .colab-df-convert:hover {\n",
              "      background-color: #434B5C;\n",
              "      box-shadow: 0px 1px 3px 1px rgba(0, 0, 0, 0.15);\n",
              "      filter: drop-shadow(0px 1px 2px rgba(0, 0, 0, 0.3));\n",
              "      fill: #FFFFFF;\n",
              "    }\n",
              "  </style>\n",
              "\n",
              "      <script>\n",
              "        const buttonEl =\n",
              "          document.querySelector('#df-1e959896-af23-49c3-86c0-53087194a061 button.colab-df-convert');\n",
              "        buttonEl.style.display =\n",
              "          google.colab.kernel.accessAllowed ? 'block' : 'none';\n",
              "\n",
              "        async function convertToInteractive(key) {\n",
              "          const element = document.querySelector('#df-1e959896-af23-49c3-86c0-53087194a061');\n",
              "          const dataTable =\n",
              "            await google.colab.kernel.invokeFunction('convertToInteractive',\n",
              "                                                     [key], {});\n",
              "          if (!dataTable) return;\n",
              "\n",
              "          const docLinkHtml = 'Like what you see? Visit the ' +\n",
              "            '<a target=\"_blank\" href=https://colab.research.google.com/notebooks/data_table.ipynb>data table notebook</a>'\n",
              "            + ' to learn more about interactive tables.';\n",
              "          element.innerHTML = '';\n",
              "          dataTable['output_type'] = 'display_data';\n",
              "          await google.colab.output.renderOutput(dataTable, element);\n",
              "          const docLink = document.createElement('div');\n",
              "          docLink.innerHTML = docLinkHtml;\n",
              "          element.appendChild(docLink);\n",
              "        }\n",
              "      </script>\n",
              "    </div>\n",
              "  </div>\n",
              "  "
            ]
          },
          "metadata": {},
          "execution_count": 3
        }
      ]
    },
    {
      "cell_type": "code",
      "source": [
        "# Shape of the Data\n",
        "print('Shape of the Dirty data=', dirty_data.shape)"
      ],
      "metadata": {
        "id": "Gt3eo93BY53n",
        "colab": {
          "base_uri": "https://localhost:8080/"
        },
        "outputId": "c9bfbb9c-3abd-4011-f7fb-246ce0752d78"
      },
      "execution_count": 4,
      "outputs": [
        {
          "output_type": "stream",
          "name": "stdout",
          "text": [
            "Shape of the Dirty data= (500, 16)\n"
          ]
        }
      ]
    },
    {
      "cell_type": "markdown",
      "source": [
        "Checking Null values"
      ],
      "metadata": {
        "id": "ivLPxnv1Vm9j"
      }
    },
    {
      "cell_type": "code",
      "source": [
        "# check for null values\n",
        "print(dirty_data.isnull().sum())"
      ],
      "metadata": {
        "id": "s0laEm_rY56L",
        "colab": {
          "base_uri": "https://localhost:8080/"
        },
        "outputId": "f499125b-2409-4de0-c909-2acc91ada0ea"
      },
      "execution_count": 5,
      "outputs": [
        {
          "output_type": "stream",
          "name": "stdout",
          "text": [
            "order_id                         0\n",
            "customer_id                      0\n",
            "date                             0\n",
            "nearest_warehouse                0\n",
            "shopping_cart                    0\n",
            "order_price                      2\n",
            "delivery_charges                 4\n",
            "customer_lat                     0\n",
            "customer_long                    0\n",
            "coupon_discount                  0\n",
            "order_total                      0\n",
            "season                           0\n",
            "is_expedited_delivery            0\n",
            "distance_to_nearest_warehouse    0\n",
            "latest_customer_review           0\n",
            "is_happy_customer                4\n",
            "dtype: int64\n"
          ]
        }
      ]
    },
    {
      "cell_type": "markdown",
      "source": [
        "**Box Plot for Checking Ouliers with missing values**"
      ],
      "metadata": {
        "id": "CrBapZOfV-2w"
      }
    },
    {
      "cell_type": "code",
      "source": [
        "plt.figure(figsize=(8,8))\n",
        "dirty_data.boxplot(column=['delivery_charges', 'order_price'])\n",
        "plt.title('Box plot on Columns with Null values')\n",
        "plt.xlabel('Columns')\n",
        "plt.ylabel('Values')\n",
        "plt.show()"
      ],
      "metadata": {
        "id": "dZxfzC2nY58w",
        "colab": {
          "base_uri": "https://localhost:8080/",
          "height": 718
        },
        "outputId": "ab18fa1a-b69c-42c5-f074-a6b00c5f3170"
      },
      "execution_count": 6,
      "outputs": [
        {
          "output_type": "display_data",
          "data": {
            "text/plain": [
              "<Figure size 800x800 with 1 Axes>"
            ],
            "image/png": "[encoded data removed]"
          },
          "metadata": {}
        }
      ]
    },
    {
      "cell_type": "markdown",
      "source": [
        "**Replacing of Null Values with Mean, Median and Mode**"
      ],
      "metadata": {
        "id": "yKv-bI2gYkXa"
      }
    },
    {
      "cell_type": "code",
      "source": [
        "# replacing null values of Delivery Charges with mean\n",
        "\n",
        "dirty_data['delivery_charges'].fillna(dirty_data['delivery_charges'].mean(), inplace= True)"
      ],
      "metadata": {
        "id": "HQa4K3iOY5_L"
      },
      "execution_count": 7,
      "outputs": []
    },
    {
      "cell_type": "code",
      "source": [
        "# replacing null values of Order Price with Median because it has multiple outliers\n",
        "\n",
        "dirty_data['order_price'].fillna(dirty_data['order_price'].median(), inplace= True)"
      ],
      "metadata": {
        "id": "gpdtnryTY6Cg"
      },
      "execution_count": 8,
      "outputs": []
    },
    {
      "cell_type": "code",
      "source": [
        "# replacing null values of Is Happy Customer column with Mode because binary balue columns are replaced with mode\n",
        "\n",
        "dirty_data['is_happy_customer'].fillna(dirty_data['is_happy_customer'].mode()[0], inplace= True)"
      ],
      "metadata": {
        "id": "NcvkZCReY6Fh"
      },
      "execution_count": 9,
      "outputs": []
    },
    {
      "cell_type": "code",
      "source": [
        "dirty_data['is_happy_customer'].mode()"
      ],
      "metadata": {
        "colab": {
          "base_uri": "https://localhost:8080/"
        },
        "id": "NTuq_aK8dmhY",
        "outputId": "2336049f-a510-4310-de00-2381aad32803"
      },
      "execution_count": 10,
      "outputs": [
        {
          "output_type": "execute_result",
          "data": {
            "text/plain": [
              "0    True\n",
              "Name: is_happy_customer, dtype: bool"
            ]
          },
          "metadata": {},
          "execution_count": 10
        }
      ]
    },
    {
      "cell_type": "code",
      "source": [
        "# again checking for null values\n",
        "\n",
        "print(dirty_data.isnull().sum())"
      ],
      "metadata": {
        "id": "kKsvpLX0Y6H3",
        "colab": {
          "base_uri": "https://localhost:8080/"
        },
        "outputId": "8e55e270-f401-4190-81f5-7ad0d9ef8a5e"
      },
      "execution_count": 11,
      "outputs": [
        {
          "output_type": "stream",
          "name": "stdout",
          "text": [
            "order_id                         0\n",
            "customer_id                      0\n",
            "date                             0\n",
            "nearest_warehouse                0\n",
            "shopping_cart                    0\n",
            "order_price                      0\n",
            "delivery_charges                 0\n",
            "customer_lat                     0\n",
            "customer_long                    0\n",
            "coupon_discount                  0\n",
            "order_total                      0\n",
            "season                           0\n",
            "is_expedited_delivery            0\n",
            "distance_to_nearest_warehouse    0\n",
            "latest_customer_review           0\n",
            "is_happy_customer                0\n",
            "dtype: int64\n"
          ]
        }
      ]
    },
    {
      "cell_type": "code",
      "source": [
        "# checking the data type\n",
        "\n",
        "print(dirty_data.dtypes)\n",
        "\n"
      ],
      "metadata": {
        "id": "s06C_JjEY6Kw",
        "colab": {
          "base_uri": "https://localhost:8080/"
        },
        "outputId": "032dcf6a-0c02-4fc5-99d6-9f9811aa4b43"
      },
      "execution_count": 12,
      "outputs": [
        {
          "output_type": "stream",
          "name": "stdout",
          "text": [
            "order_id                          object\n",
            "customer_id                       object\n",
            "date                              object\n",
            "nearest_warehouse                 object\n",
            "shopping_cart                     object\n",
            "order_price                      float64\n",
            "delivery_charges                 float64\n",
            "customer_lat                     float64\n",
            "customer_long                    float64\n",
            "coupon_discount                    int64\n",
            "order_total                       object\n",
            "season                            object\n",
            "is_expedited_delivery               bool\n",
            "distance_to_nearest_warehouse    float64\n",
            "latest_customer_review            object\n",
            "is_happy_customer                   bool\n",
            "dtype: object\n"
          ]
        }
      ]
    },
    {
      "cell_type": "markdown",
      "source": [
        "Conversion of Datatype"
      ],
      "metadata": {
        "id": "3GZ9Tko4e6Jj"
      }
    },
    {
      "cell_type": "code",
      "source": [
        "\n",
        "# Converting Date column into Date time format\n",
        "\n",
        "dirty_data.date= pd.to_datetime(dirty_data['date'])"
      ],
      "metadata": {
        "id": "TKRV7ZZ-esms",
        "colab": {
          "base_uri": "https://localhost:8080/"
        },
        "outputId": "9dea6e34-9129-4cef-fffc-fc927bf3fc78"
      },
      "execution_count": 13,
      "outputs": [
        {
          "output_type": "stream",
          "name": "stderr",
          "text": [
            "<ipython-input-13-ced641ea8b38>:3: UserWarning: Parsing dates in DD/MM/YYYY format when dayfirst=False (the default) was specified. This may lead to inconsistently parsed dates! Specify a format to ensure consistent parsing.\n",
            "  dirty_data.date= pd.to_datetime(dirty_data['date'])\n"
          ]
        }
      ]
    },
    {
      "cell_type": "code",
      "source": [
        "print(dirty_data['date'].dtypes)"
      ],
      "metadata": {
        "colab": {
          "base_uri": "https://localhost:8080/"
        },
        "id": "U4Gc1z1Aes3W",
        "outputId": "609065c0-baab-465c-eb91-26132e366e95"
      },
      "execution_count": 14,
      "outputs": [
        {
          "output_type": "stream",
          "name": "stdout",
          "text": [
            "datetime64[ns]\n"
          ]
        }
      ]
    },
    {
      "cell_type": "markdown",
      "source": [
        "**Sanity Check Of Data**"
      ],
      "metadata": {
        "id": "NPDC5fQ9f9Yn"
      }
    },
    {
      "cell_type": "code",
      "source": [
        "# Cheking for Unique Data in Order ID column\n",
        "\n",
        "if dirty_data.order_id.is_unique:\n",
        "  print('Data in Order Id is Unique.')\n",
        "else:\n",
        "  print('Data in Order Id in not Unique.')"
      ],
      "metadata": {
        "colab": {
          "base_uri": "https://localhost:8080/"
        },
        "id": "d28NpbB6es59",
        "outputId": "2a091cec-060c-4d52-ddfd-e39d55d66c48"
      },
      "execution_count": 15,
      "outputs": [
        {
          "output_type": "stream",
          "name": "stdout",
          "text": [
            "Data in Order Id is Unique.\n"
          ]
        }
      ]
    },
    {
      "cell_type": "code",
      "source": [
        "# checking for unique values in Column\n",
        "\n",
        "dirty_data['nearest_warehouse'].unique()"
      ],
      "metadata": {
        "id": "Yja6QdOOes8x",
        "colab": {
          "base_uri": "https://localhost:8080/"
        },
        "outputId": "88a6c04c-aaa7-4d0b-a470-be74bf1760b9"
      },
      "execution_count": 19,
      "outputs": [
        {
          "output_type": "execute_result",
          "data": {
            "text/plain": [
              "array(['Thompson', 'Nickolson', 'Bakers', 'nickolson', 'thompson',\n",
              "       'Thompson911', '1211Bakers', 'Nick123olson'], dtype=object)"
            ]
          },
          "metadata": {},
          "execution_count": 19
        }
      ]
    },
    {
      "cell_type": "code",
      "source": [
        "# using Regular Expression for cleaning the data\n",
        "\n",
        "pattern= '\\d+' #matches one or more digits\n",
        "masked = dirty_data['nearest_warehouse'].str.contains(pattern, regex= True)\n",
        "result = dirty_data[masked]\n",
        "result"
      ],
      "metadata": {
        "id": "lNuhqc2vetBo",
        "colab": {
          "base_uri": "https://localhost:8080/",
          "height": 329
        },
        "outputId": "765104e3-eaab-491f-b793-88259a2aee5f"
      },
      "execution_count": 21,
      "outputs": [
        {
          "output_type": "execute_result",
          "data": {
            "text/plain": [
              "      order_id   customer_id       date nearest_warehouse  \\\n",
              "426  ORD057375  ID0710001161 2019-03-02       Thompson911   \n",
              "467  ORD144784  ID0333901582 2019-09-11        1211Bakers   \n",
              "494  ORD379700  ID2190564628 2019-05-08      Nick123olson   \n",
              "\n",
              "                                         shopping_cart  order_price  \\\n",
              "426  [('Thunder line', 1), ('Alcon 10', 1), ('Candl...      18460.0   \n",
              "467           [('Olivia x460', 2), ('Lucent 330S', 2)]       4910.0   \n",
              "494  [('Candle Inferno', 1), ('Alcon 10', 1), ('Luc...      17510.0   \n",
              "\n",
              "     delivery_charges  customer_lat  customer_long  coupon_discount  \\\n",
              "426             93.52    -37.813736     144.936811               25   \n",
              "467            108.87    -37.801844     144.981358               25   \n",
              "494             75.37    -37.816209     144.964057                5   \n",
              "\n",
              "    order_total  season  is_expedited_delivery  distance_to_nearest_warehouse  \\\n",
              "426   665085.66  Summer                   True                         0.9098   \n",
              "467     3791.37  Autumn                   True                         1.5207   \n",
              "494    16709.87  Winter                   True                         0.5513   \n",
              "\n",
              "                                latest_customer_review  is_happy_customer  \n",
              "426  best buy i've made on digico functions properl...               True  \n",
              "467  turned our old tv into a smart tv. really easy...               True  \n",
              "494  good quality price ratio bought it for my mom,...               True  "
            ],
            "text/html": [
              "\n",
              "  <div id=\"df-0620e70c-78c1-4e37-8dfa-b881f0108542\">\n",
              "    <div class=\"colab-df-container\">\n",
              "      <div>\n",
              "<style scoped>\n",
              "    .dataframe tbody tr th:only-of-type {\n",
              "        vertical-align: middle;\n",
              "    }\n",
              "\n",
              "    .dataframe tbody tr th {\n",
              "        vertical-align: top;\n",
              "    }\n",
              "\n",
              "    .dataframe thead th {\n",
              "        text-align: right;\n",
              "    }\n",
              "</style>\n",
              "<table border=\"1\" class=\"dataframe\">\n",
              "  <thead>\n",
              "    <tr style=\"text-align: right;\">\n",
              "      <th></th>\n",
              "      <th>order_id</th>\n",
              "      <th>customer_id</th>\n",
              "      <th>date</th>\n",
              "      <th>nearest_warehouse</th>\n",
              "      <th>shopping_cart</th>\n",
              "      <th>order_price</th>\n",
              "      <th>delivery_charges</th>\n",
              "      <th>customer_lat</th>\n",
              "      <th>customer_long</th>\n",
              "      <th>coupon_discount</th>\n",
              "      <th>order_total</th>\n",
              "      <th>season</th>\n",
              "      <th>is_expedited_delivery</th>\n",
              "      <th>distance_to_nearest_warehouse</th>\n",
              "      <th>latest_customer_review</th>\n",
              "      <th>is_happy_customer</th>\n",
              "    </tr>\n",
              "  </thead>\n",
              "  <tbody>\n",
              "    <tr>\n",
              "      <th>426</th>\n",
              "      <td>ORD057375</td>\n",
              "      <td>ID0710001161</td>\n",
              "      <td>2019-03-02</td>\n",
              "      <td>Thompson911</td>\n",
              "      <td>[('Thunder line', 1), ('Alcon 10', 1), ('Candl...</td>\n",
              "      <td>18460.0</td>\n",
              "      <td>93.52</td>\n",
              "      <td>-37.813736</td>\n",
              "      <td>144.936811</td>\n",
              "      <td>25</td>\n",
              "      <td>665085.66</td>\n",
              "      <td>Summer</td>\n",
              "      <td>True</td>\n",
              "      <td>0.9098</td>\n",
              "      <td>best buy i've made on digico functions properl...</td>\n",
              "      <td>True</td>\n",
              "    </tr>\n",
              "    <tr>\n",
              "      <th>467</th>\n",
              "      <td>ORD144784</td>\n",
              "      <td>ID0333901582</td>\n",
              "      <td>2019-09-11</td>\n",
              "      <td>1211Bakers</td>\n",
              "      <td>[('Olivia x460', 2), ('Lucent 330S', 2)]</td>\n",
              "      <td>4910.0</td>\n",
              "      <td>108.87</td>\n",
              "      <td>-37.801844</td>\n",
              "      <td>144.981358</td>\n",
              "      <td>25</td>\n",
              "      <td>3791.37</td>\n",
              "      <td>Autumn</td>\n",
              "      <td>True</td>\n",
              "      <td>1.5207</td>\n",
              "      <td>turned our old tv into a smart tv. really easy...</td>\n",
              "      <td>True</td>\n",
              "    </tr>\n",
              "    <tr>\n",
              "      <th>494</th>\n",
              "      <td>ORD379700</td>\n",
              "      <td>ID2190564628</td>\n",
              "      <td>2019-05-08</td>\n",
              "      <td>Nick123olson</td>\n",
              "      <td>[('Candle Inferno', 1), ('Alcon 10', 1), ('Luc...</td>\n",
              "      <td>17510.0</td>\n",
              "      <td>75.37</td>\n",
              "      <td>-37.816209</td>\n",
              "      <td>144.964057</td>\n",
              "      <td>5</td>\n",
              "      <td>16709.87</td>\n",
              "      <td>Winter</td>\n",
              "      <td>True</td>\n",
              "      <td>0.5513</td>\n",
              "      <td>good quality price ratio bought it for my mom,...</td>\n",
              "      <td>True</td>\n",
              "    </tr>\n",
              "  </tbody>\n",
              "</table>\n",
              "</div>\n",
              "      <button class=\"colab-df-convert\" onclick=\"convertToInteractive('df-0620e70c-78c1-4e37-8dfa-b881f0108542')\"\n",
              "              title=\"Convert this dataframe to an interactive table.\"\n",
              "              style=\"display:none;\">\n",
              "        \n",
              "  <svg xmlns=\"http://www.w3.org/2000/svg\" height=\"24px\"viewBox=\"0 0 24 24\"\n",
              "       width=\"24px\">\n",
              "    <path d=\"M0 0h24v24H0V0z\" fill=\"none\"/>\n",
              "    <path d=\"M18.56 5.44l.94 2.06.94-2.06 2.06-.94-2.06-.94-.94-2.06-.94 2.06-2.06.94zm-11 1L8.5 8.5l.94-2.06 2.06-.94-2.06-.94L8.5 2.5l-.94 2.06-2.06.94zm10 10l.94 2.06.94-2.06 2.06-.94-2.06-.94-.94-2.06-.94 2.06-2.06.94z\"/><path d=\"M17.41 7.96l-1.37-1.37c-.4-.4-.92-.59-1.43-.59-.52 0-1.04.2-1.43.59L10.3 9.45l-7.72 7.72c-.78.78-.78 2.05 0 2.83L4 21.41c.39.39.9.59 1.41.59.51 0 1.02-.2 1.41-.59l7.78-7.78 2.81-2.81c.8-.78.8-2.07 0-2.86zM5.41 20L4 18.59l7.72-7.72 1.47 1.35L5.41 20z\"/>\n",
              "  </svg>\n",
              "      </button>\n",
              "      \n",
              "  <style>\n",
              "    .colab-df-container {\n",
              "      display:flex;\n",
              "      flex-wrap:wrap;\n",
              "      gap: 12px;\n",
              "    }\n",
              "\n",
              "    .colab-df-convert {\n",
              "      background-color: #E8F0FE;\n",
              "      border: none;\n",
              "      border-radius: 50%;\n",
              "      cursor: pointer;\n",
              "      display: none;\n",
              "      fill: #1967D2;\n",
              "      height: 32px;\n",
              "      padding: 0 0 0 0;\n",
              "      width: 32px;\n",
              "    }\n",
              "\n",
              "    .colab-df-convert:hover {\n",
              "      background-color: #E2EBFA;\n",
              "      box-shadow: 0px 1px 2px rgba(60, 64, 67, 0.3), 0px 1px 3px 1px rgba(60, 64, 67, 0.15);\n",
              "      fill: #174EA6;\n",
              "    }\n",
              "\n",
              "    [theme=dark] .colab-df-convert {\n",
              "      background-color: #3B4455;\n",
              "      fill: #D2E3FC;\n",
              "    }\n",
              "\n",
              "    [theme=dark] .colab-df-convert:hover {\n",
              "      background-color: #434B5C;\n",
              "      box-shadow: 0px 1px 3px 1px rgba(0, 0, 0, 0.15);\n",
              "      filter: drop-shadow(0px 1px 2px rgba(0, 0, 0, 0.3));\n",
              "      fill: #FFFFFF;\n",
              "    }\n",
              "  </style>\n",
              "\n",
              "      <script>\n",
              "        const buttonEl =\n",
              "          document.querySelector('#df-0620e70c-78c1-4e37-8dfa-b881f0108542 button.colab-df-convert');\n",
              "        buttonEl.style.display =\n",
              "          google.colab.kernel.accessAllowed ? 'block' : 'none';\n",
              "\n",
              "        async function convertToInteractive(key) {\n",
              "          const element = document.querySelector('#df-0620e70c-78c1-4e37-8dfa-b881f0108542');\n",
              "          const dataTable =\n",
              "            await google.colab.kernel.invokeFunction('convertToInteractive',\n",
              "                                                     [key], {});\n",
              "          if (!dataTable) return;\n",
              "\n",
              "          const docLinkHtml = 'Like what you see? Visit the ' +\n",
              "            '<a target=\"_blank\" href=https://colab.research.google.com/notebooks/data_table.ipynb>data table notebook</a>'\n",
              "            + ' to learn more about interactive tables.';\n",
              "          element.innerHTML = '';\n",
              "          dataTable['output_type'] = 'display_data';\n",
              "          await google.colab.output.renderOutput(dataTable, element);\n",
              "          const docLink = document.createElement('div');\n",
              "          docLink.innerHTML = docLinkHtml;\n",
              "          element.appendChild(docLink);\n",
              "        }\n",
              "      </script>\n",
              "    </div>\n",
              "  </div>\n",
              "  "
            ]
          },
          "metadata": {},
          "execution_count": 21
        }
      ]
    },
    {
      "cell_type": "code",
      "source": [
        "# replacing data\n",
        "dirty_data['nearest_warehouse']= dirty_data['nearest_warehouse'].str.replace('\\d+', '')\n",
        "dirty_data.head()"
      ],
      "metadata": {
        "id": "I-k13NByetE4",
        "colab": {
          "base_uri": "https://localhost:8080/",
          "height": 515
        },
        "outputId": "48ded4f2-9e5c-4c65-962a-c3a1b36714a7"
      },
      "execution_count": 23,
      "outputs": [
        {
          "output_type": "stream",
          "name": "stderr",
          "text": [
            "<ipython-input-23-a282e3ddcfda>:2: FutureWarning: The default value of regex will change from True to False in a future version.\n",
            "  dirty_data['nearest_warehouse']= dirty_data['nearest_warehouse'].str.replace('\\d+', '')\n"
          ]
        },
        {
          "output_type": "execute_result",
          "data": {
            "text/plain": [
              "    order_id   customer_id       date nearest_warehouse  \\\n",
              "0  ORD182494  ID6197211592 2019-06-22          Thompson   \n",
              "1  ORD395518  ID0282825849 2019-12-29          Thompson   \n",
              "2  ORD494479  ID0579391891 2019-02-03         Nickolson   \n",
              "3  ORD019224  ID4544561904 2019-12-01         Nickolson   \n",
              "4  ORD104032  ID6231506320 2019-11-28         Nickolson   \n",
              "\n",
              "                                       shopping_cart  order_price  \\\n",
              "0  [('Lucent 330S', 1), ('Thunder line', 2), ('iS...      12200.0   \n",
              "1        [('Thunder line', 1), ('Universe Note', 2)]       9080.0   \n",
              "2               [('Thunder line', 1), ('pearTV', 2)]      10670.0   \n",
              "3  [('Universe Note', 1), ('Alcon 10', 2), ('Oliv...      24800.0   \n",
              "4  [('Universe Note', 1), ('Olivia x460', 1), ('i...       9145.0   \n",
              "\n",
              "   delivery_charges  customer_lat  customer_long  coupon_discount order_total  \\\n",
              "0             79.89    -37.815105     144.932843               10    11059.89   \n",
              "1             62.71    -37.802736     144.951118                0     9142.71   \n",
              "2             65.87    -37.821302     144.957581               10     9668.87   \n",
              "3             57.61    -37.811416     144.973073               15    21137.61   \n",
              "4             75.54     37.823859     144.969892               25     6934.29   \n",
              "\n",
              "   season  is_expedited_delivery  distance_to_nearest_warehouse  \\\n",
              "0  Winter                   True                         1.2800   \n",
              "1  Summer                  False                         1.1621   \n",
              "2  Autumn                  False                         1.0949   \n",
              "3  Summer                  False                         0.8571   \n",
              "4  Spring                  False                         0.5867   \n",
              "\n",
              "                              latest_customer_review  is_happy_customer  \n",
              "0  perfect phone and trusted seller. phone itself...               True  \n",
              "1  it keeps dropping calls the wifi don't work th...              False  \n",
              "2            five stars this is a great cheap phone.               True  \n",
              "3        charger did not fit the charger didn't fit.              False  \n",
              "4                                    four stars good               True  "
            ],
            "text/html": [
              "\n",
              "  <div id=\"df-984f8a43-4e9d-4ad8-8374-96a1d8b6adec\">\n",
              "    <div class=\"colab-df-container\">\n",
              "      <div>\n",
              "<style scoped>\n",
              "    .dataframe tbody tr th:only-of-type {\n",
              "        vertical-align: middle;\n",
              "    }\n",
              "\n",
              "    .dataframe tbody tr th {\n",
              "        vertical-align: top;\n",
              "    }\n",
              "\n",
              "    .dataframe thead th {\n",
              "        text-align: right;\n",
              "    }\n",
              "</style>\n",
              "<table border=\"1\" class=\"dataframe\">\n",
              "  <thead>\n",
              "    <tr style=\"text-align: right;\">\n",
              "      <th></th>\n",
              "      <th>order_id</th>\n",
              "      <th>customer_id</th>\n",
              "      <th>date</th>\n",
              "      <th>nearest_warehouse</th>\n",
              "      <th>shopping_cart</th>\n",
              "      <th>order_price</th>\n",
              "      <th>delivery_charges</th>\n",
              "      <th>customer_lat</th>\n",
              "      <th>customer_long</th>\n",
              "      <th>coupon_discount</th>\n",
              "      <th>order_total</th>\n",
              "      <th>season</th>\n",
              "      <th>is_expedited_delivery</th>\n",
              "      <th>distance_to_nearest_warehouse</th>\n",
              "      <th>latest_customer_review</th>\n",
              "      <th>is_happy_customer</th>\n",
              "    </tr>\n",
              "  </thead>\n",
              "  <tbody>\n",
              "    <tr>\n",
              "      <th>0</th>\n",
              "      <td>ORD182494</td>\n",
              "      <td>ID6197211592</td>\n",
              "      <td>2019-06-22</td>\n",
              "      <td>Thompson</td>\n",
              "      <td>[('Lucent 330S', 1), ('Thunder line', 2), ('iS...</td>\n",
              "      <td>12200.0</td>\n",
              "      <td>79.89</td>\n",
              "      <td>-37.815105</td>\n",
              "      <td>144.932843</td>\n",
              "      <td>10</td>\n",
              "      <td>11059.89</td>\n",
              "      <td>Winter</td>\n",
              "      <td>True</td>\n",
              "      <td>1.2800</td>\n",
              "      <td>perfect phone and trusted seller. phone itself...</td>\n",
              "      <td>True</td>\n",
              "    </tr>\n",
              "    <tr>\n",
              "      <th>1</th>\n",
              "      <td>ORD395518</td>\n",
              "      <td>ID0282825849</td>\n",
              "      <td>2019-12-29</td>\n",
              "      <td>Thompson</td>\n",
              "      <td>[('Thunder line', 1), ('Universe Note', 2)]</td>\n",
              "      <td>9080.0</td>\n",
              "      <td>62.71</td>\n",
              "      <td>-37.802736</td>\n",
              "      <td>144.951118</td>\n",
              "      <td>0</td>\n",
              "      <td>9142.71</td>\n",
              "      <td>Summer</td>\n",
              "      <td>False</td>\n",
              "      <td>1.1621</td>\n",
              "      <td>it keeps dropping calls the wifi don't work th...</td>\n",
              "      <td>False</td>\n",
              "    </tr>\n",
              "    <tr>\n",
              "      <th>2</th>\n",
              "      <td>ORD494479</td>\n",
              "      <td>ID0579391891</td>\n",
              "      <td>2019-02-03</td>\n",
              "      <td>Nickolson</td>\n",
              "      <td>[('Thunder line', 1), ('pearTV', 2)]</td>\n",
              "      <td>10670.0</td>\n",
              "      <td>65.87</td>\n",
              "      <td>-37.821302</td>\n",
              "      <td>144.957581</td>\n",
              "      <td>10</td>\n",
              "      <td>9668.87</td>\n",
              "      <td>Autumn</td>\n",
              "      <td>False</td>\n",
              "      <td>1.0949</td>\n",
              "      <td>five stars this is a great cheap phone.</td>\n",
              "      <td>True</td>\n",
              "    </tr>\n",
              "    <tr>\n",
              "      <th>3</th>\n",
              "      <td>ORD019224</td>\n",
              "      <td>ID4544561904</td>\n",
              "      <td>2019-12-01</td>\n",
              "      <td>Nickolson</td>\n",
              "      <td>[('Universe Note', 1), ('Alcon 10', 2), ('Oliv...</td>\n",
              "      <td>24800.0</td>\n",
              "      <td>57.61</td>\n",
              "      <td>-37.811416</td>\n",
              "      <td>144.973073</td>\n",
              "      <td>15</td>\n",
              "      <td>21137.61</td>\n",
              "      <td>Summer</td>\n",
              "      <td>False</td>\n",
              "      <td>0.8571</td>\n",
              "      <td>charger did not fit the charger didn't fit.</td>\n",
              "      <td>False</td>\n",
              "    </tr>\n",
              "    <tr>\n",
              "      <th>4</th>\n",
              "      <td>ORD104032</td>\n",
              "      <td>ID6231506320</td>\n",
              "      <td>2019-11-28</td>\n",
              "      <td>Nickolson</td>\n",
              "      <td>[('Universe Note', 1), ('Olivia x460', 1), ('i...</td>\n",
              "      <td>9145.0</td>\n",
              "      <td>75.54</td>\n",
              "      <td>37.823859</td>\n",
              "      <td>144.969892</td>\n",
              "      <td>25</td>\n",
              "      <td>6934.29</td>\n",
              "      <td>Spring</td>\n",
              "      <td>False</td>\n",
              "      <td>0.5867</td>\n",
              "      <td>four stars good</td>\n",
              "      <td>True</td>\n",
              "    </tr>\n",
              "  </tbody>\n",
              "</table>\n",
              "</div>\n",
              "      <button class=\"colab-df-convert\" onclick=\"convertToInteractive('df-984f8a43-4e9d-4ad8-8374-96a1d8b6adec')\"\n",
              "              title=\"Convert this dataframe to an interactive table.\"\n",
              "              style=\"display:none;\">\n",
              "        \n",
              "  <svg xmlns=\"http://www.w3.org/2000/svg\" height=\"24px\"viewBox=\"0 0 24 24\"\n",
              "       width=\"24px\">\n",
              "    <path d=\"M0 0h24v24H0V0z\" fill=\"none\"/>\n",
              "    <path d=\"M18.56 5.44l.94 2.06.94-2.06 2.06-.94-2.06-.94-.94-2.06-.94 2.06-2.06.94zm-11 1L8.5 8.5l.94-2.06 2.06-.94-2.06-.94L8.5 2.5l-.94 2.06-2.06.94zm10 10l.94 2.06.94-2.06 2.06-.94-2.06-.94-.94-2.06-.94 2.06-2.06.94z\"/><path d=\"M17.41 7.96l-1.37-1.37c-.4-.4-.92-.59-1.43-.59-.52 0-1.04.2-1.43.59L10.3 9.45l-7.72 7.72c-.78.78-.78 2.05 0 2.83L4 21.41c.39.39.9.59 1.41.59.51 0 1.02-.2 1.41-.59l7.78-7.78 2.81-2.81c.8-.78.8-2.07 0-2.86zM5.41 20L4 18.59l7.72-7.72 1.47 1.35L5.41 20z\"/>\n",
              "  </svg>\n",
              "      </button>\n",
              "      \n",
              "  <style>\n",
              "    .colab-df-container {\n",
              "      display:flex;\n",
              "      flex-wrap:wrap;\n",
              "      gap: 12px;\n",
              "    }\n",
              "\n",
              "    .colab-df-convert {\n",
              "      background-color: #E8F0FE;\n",
              "      border: none;\n",
              "      border-radius: 50%;\n",
              "      cursor: pointer;\n",
              "      display: none;\n",
              "      fill: #1967D2;\n",
              "      height: 32px;\n",
              "      padding: 0 0 0 0;\n",
              "      width: 32px;\n",
              "    }\n",
              "\n",
              "    .colab-df-convert:hover {\n",
              "      background-color: #E2EBFA;\n",
              "      box-shadow: 0px 1px 2px rgba(60, 64, 67, 0.3), 0px 1px 3px 1px rgba(60, 64, 67, 0.15);\n",
              "      fill: #174EA6;\n",
              "    }\n",
              "\n",
              "    [theme=dark] .colab-df-convert {\n",
              "      background-color: #3B4455;\n",
              "      fill: #D2E3FC;\n",
              "    }\n",
              "\n",
              "    [theme=dark] .colab-df-convert:hover {\n",
              "      background-color: #434B5C;\n",
              "      box-shadow: 0px 1px 3px 1px rgba(0, 0, 0, 0.15);\n",
              "      filter: drop-shadow(0px 1px 2px rgba(0, 0, 0, 0.3));\n",
              "      fill: #FFFFFF;\n",
              "    }\n",
              "  </style>\n",
              "\n",
              "      <script>\n",
              "        const buttonEl =\n",
              "          document.querySelector('#df-984f8a43-4e9d-4ad8-8374-96a1d8b6adec button.colab-df-convert');\n",
              "        buttonEl.style.display =\n",
              "          google.colab.kernel.accessAllowed ? 'block' : 'none';\n",
              "\n",
              "        async function convertToInteractive(key) {\n",
              "          const element = document.querySelector('#df-984f8a43-4e9d-4ad8-8374-96a1d8b6adec');\n",
              "          const dataTable =\n",
              "            await google.colab.kernel.invokeFunction('convertToInteractive',\n",
              "                                                     [key], {});\n",
              "          if (!dataTable) return;\n",
              "\n",
              "          const docLinkHtml = 'Like what you see? Visit the ' +\n",
              "            '<a target=\"_blank\" href=https://colab.research.google.com/notebooks/data_table.ipynb>data table notebook</a>'\n",
              "            + ' to learn more about interactive tables.';\n",
              "          element.innerHTML = '';\n",
              "          dataTable['output_type'] = 'display_data';\n",
              "          await google.colab.output.renderOutput(dataTable, element);\n",
              "          const docLink = document.createElement('div');\n",
              "          docLink.innerHTML = docLinkHtml;\n",
              "          element.appendChild(docLink);\n",
              "        }\n",
              "      </script>\n",
              "    </div>\n",
              "  </div>\n",
              "  "
            ]
          },
          "metadata": {},
          "execution_count": 23
        }
      ]
    },
    {
      "cell_type": "code",
      "source": [
        "# corrected Data\n",
        "dirty_data['nearest_warehouse'].unique()"
      ],
      "metadata": {
        "id": "PZ4XoxEHetHl",
        "colab": {
          "base_uri": "https://localhost:8080/"
        },
        "outputId": "1fa40e63-74fb-45fe-ef43-f63f1fc2c6dd"
      },
      "execution_count": 24,
      "outputs": [
        {
          "output_type": "execute_result",
          "data": {
            "text/plain": [
              "array(['Thompson', 'Nickolson', 'Bakers', 'nickolson', 'thompson'],\n",
              "      dtype=object)"
            ]
          },
          "metadata": {},
          "execution_count": 24
        }
      ]
    },
    {
      "cell_type": "code",
      "source": [
        "# Checking unique values in Order Total column\n",
        "\n",
        "dirty_data['order_total'].unique()"
      ],
      "metadata": {
        "id": "FaHSYfhTetKb",
        "colab": {
          "base_uri": "https://localhost:8080/"
        },
        "outputId": "b6027135-4a42-4510-8f47-7d02882a1ba9"
      },
      "execution_count": 30,
      "outputs": [
        {
          "output_type": "execute_result",
          "data": {
            "text/plain": [
              "array(['1105989', '914271', '966887', '2113761', '693429', '710022',\n",
              "       '1308984', '1078979', '2295858', '1138426', '3197325', '1046479',\n",
              "       '92605725', '1978564', '3197978', '1519635', '1118819', '130452',\n",
              "       '626889', '629486', '1378761', '482305', '1711101', '546428',\n",
              "       '1753919', '227398', '2034604', '566328', '171418', '1962668',\n",
              "       '1228724', '40230725', '790074', '1698954', '1916109', '328044',\n",
              "       '1018645', '1282212', '1162028', '1307521', '571779', '6205023',\n",
              "       '843745', '813157', '1382201', '744601', '105983', '883633',\n",
              "       '2819573', '1942081', '797782', '999906', '234686', '1542105',\n",
              "       '230295', '4140693', '447072', '2230628', '357902', '1516821',\n",
              "       '70366', '3721532', '179732', '148458', '537913', '1656247',\n",
              "       '511447', '1831614', '961979', '1836762', '168037', '2661653',\n",
              "       '88026', '2429323', '391342', '1221093', '269006', '2805618',\n",
              "       '3175808', '913423', '341642', '39376123', '1464658', '783323',\n",
              "       '449022', '2459754', '1280811', '1544861', '1283527', '914357',\n",
              "       '1339016', '561921', '2349554', '2557124', '2790105', '1094654',\n",
              "       '535429', '1574796', '279447', '1280856', '2081267', '2585942',\n",
              "       '16545', '1062639', '72364', '470693', '1779488', '2071619',\n",
              "       '498034', '664296', '1518258', '1359365', '1337927', '1428868',\n",
              "       '396553', '221476', '1922336', '206947', '1737355', '829291',\n",
              "       '242182', '1914419', '918373', '836237', '147353', '2549939',\n",
              "       '1068589', '1375719', '1132902', '81628', '2488023', '397008',\n",
              "       '2514273', '1129833', '2127061', '17264', '1744998', '1225619',\n",
              "       '885903', '1011276', '894993', '2038862', '626326', '692465',\n",
              "       '345504', '1889647', '2113238', '956696', '654161', '1558536',\n",
              "       '1976184', '994592', '4270', '754351', '2571955', '1320837',\n",
              "       '312127', '1166179', '1351563', '445108', '2506235', '1510709',\n",
              "       '739324', '914596', '2346182', '1417202', '751956', '703889',\n",
              "       '1007048', '1162184', '1795079', '96191', '427619', '875293',\n",
              "       '564077', '300835', '329395', '1197507', '216012', '648294',\n",
              "       '814319', '50395', '650863', '121407', '895645', '423924',\n",
              "       '1623477', '1586018', '1370038', '923256', '2368368', '750421',\n",
              "       '10723', '874578', '426311', '770407', '2184759', '2430739',\n",
              "       '1645824', '512308', '1015389', '514911', '2220648', '356479',\n",
              "       '96740888', '958229', '292176', '2198571', '42237', '1375119',\n",
              "       '1460717', '60789', '1167544', '1639048', '455529', '1933224',\n",
              "       '1892034', '1962232', '1295061', '521885', '110759', '541705',\n",
              "       '141455', '1822064', '646648', '1947384', '1554535', '654582',\n",
              "       '2100816', '1855972', '1515479', '2127197', '663823', '1881556',\n",
              "       '172609', '1783108', '503892', '1946865', '6484776', '1647413',\n",
              "       '529116', '2379084', '1837475', '288809', '783946', '1753874',\n",
              "       '527095', '816433', '358534', '448304', '2075848', '620796',\n",
              "       '587048', '701778', '435575', '103702', '229184', '164937',\n",
              "       '378532', '1704675', '1601345', '64919376', '2371016', '1781193',\n",
              "       '405802', '193241', '1628095', '96965179', '1000247', '189408',\n",
              "       '1768644', '1474486', '5098', '1856731', '805864', '621831',\n",
              "       '3370675', '50732739', '2026584', '869102', '991795', '3022625',\n",
              "       '305612', '1839154', '841378', '813487', '1439563', '319505',\n",
              "       '162882', '1833891', '426197', '1032854', '1120314', '1290103',\n",
              "       '816165', '1224747', '313847', '76558', '148276', '845876',\n",
              "       '238878', '1392547', '1128959', '222686', '271471', '56882696',\n",
              "       '1316608', '462218', '63929', '1841721', '8812481', '1155105',\n",
              "       '748311', '970981', '391299', '1685377', '64195', '801873',\n",
              "       '785854', '1425149', '62421', '1428164', '477031', '2196968',\n",
              "       '1423071', '381387', '1078956', '618064', '146028', '685554',\n",
              "       '2056624', '1199917', '702661', '1553701', '811526', '926632',\n",
              "       '1501572', '1508298', '572304', '562735', '2786895', '665524',\n",
              "       '1858685', '77389', '535371', '376531', '1791891', '2140858',\n",
              "       '1800041', '1923188', '267959', '8722469', '598315', '1968721',\n",
              "       '2235467', '146155', '663383', '2305051', '1318836', '1799558',\n",
              "       '2058478', '1062114', '34347', '544923', '1436942', '1930314',\n",
              "       '1786201', '254711', '973363', '1059896', '1018934', '1227274',\n",
              "       '2036368', '1827406', '117169', '858411', '1004073', '1137478',\n",
              "       '8221442', '2258087', '310537', '135157', '60182', '571399',\n",
              "       '695005', '90946394', '586186', '160129', '885173', '1902961',\n",
              "       '3764994', '684229', '1739887', '1763833', '2096358', '245428',\n",
              "       '706728', '2144118', '585189', '390506', '723145', '60609',\n",
              "       '1669036', '2104784', '1080897', '519721', '264078', '856891',\n",
              "       '1668017', '1222461', '324111', '1486326', '178067', '1737289',\n",
              "       '239782', '588794', '22566', '820998', '997704', '915', '719394',\n",
              "       '136839', '968293', '1335495', '2539212', '719155', '66508566',\n",
              "       '2581891', '509155', '1001824', '651061', '1117633', '110279',\n",
              "       '338707', '1808537', '1651256', '1082383', '58083', '2963123',\n",
              "       '2613311', '1161386', '2289964', '262032', '1546742', '1379643',\n",
              "       '1314399', '243523', '692769', '647902', '1342825', '666204',\n",
              "       '1266046', '935559', '910179', '2997712', '1362828', '251867',\n",
              "       '1107759', '593125', '717481', '1931587', '213505', '940867',\n",
              "       '1432727', '975696', '84805', '2602113', '379137', '2395424',\n",
              "       '296698', '168142', '594765', '1797282', '51337', '244376',\n",
              "       '196142', '821186', '11475', '495044', '268701', '807042',\n",
              "       '2202069', '8110', '1446075', '699475', '2949337', '3394706',\n",
              "       '1118873', '21526', '295507', '505658', '596385', '2289941',\n",
              "       '1670987', '201747', '2218229', '1659698', '460689', '1907912'],\n",
              "      dtype=object)"
            ]
          },
          "metadata": {},
          "execution_count": 30
        }
      ]
    },
    {
      "cell_type": "code",
      "source": [
        "pattern= '[a-zA-Z\\W]'\n",
        "masked= dirty_data['order_total'].str.contains(pattern, regex= True)\n",
        "result= dirty_data[masked]\n",
        "result"
      ],
      "metadata": {
        "id": "xjZTzblvetNO",
        "colab": {
          "base_uri": "https://localhost:8080/",
          "height": 904
        },
        "outputId": "b90552c0-7ac0-4192-e70b-f8166f747d17"
      },
      "execution_count": 27,
      "outputs": [
        {
          "output_type": "execute_result",
          "data": {
            "text/plain": [
              "      order_id   customer_id       date nearest_warehouse  \\\n",
              "0    ORD182494  ID6197211592 2019-06-22          Thompson   \n",
              "1    ORD395518  ID0282825849 2019-12-29          Thompson   \n",
              "2    ORD494479  ID0579391891 2019-02-03         Nickolson   \n",
              "3    ORD019224  ID4544561904 2019-12-01         Nickolson   \n",
              "4    ORD104032  ID6231506320 2019-11-28         Nickolson   \n",
              "..         ...           ...        ...               ...   \n",
              "495  ORD475510  ID0247417082 2019-07-08         Nickolson   \n",
              "496  ORD086060  ID0130015098 2019-03-28         Nickolson   \n",
              "497  ORD079320  ID2707985442 2019-10-16         Nickolson   \n",
              "498  ORD026546  ID0060088412 2019-05-19         Nickolson   \n",
              "499  ORD085447  ID5257193650 2019-05-25            Bakers   \n",
              "\n",
              "                                         shopping_cart  order_price  \\\n",
              "0    [('Lucent 330S', 1), ('Thunder line', 2), ('iS...      12200.0   \n",
              "1          [('Thunder line', 1), ('Universe Note', 2)]       9080.0   \n",
              "2                 [('Thunder line', 1), ('pearTV', 2)]      10670.0   \n",
              "3    [('Universe Note', 1), ('Alcon 10', 2), ('Oliv...      24800.0   \n",
              "4    [('Universe Note', 1), ('Olivia x460', 1), ('i...       9145.0   \n",
              "..                                                 ...          ...   \n",
              "495             [('Alcon 10', 2), ('iAssist Line', 2)]     386776.0   \n",
              "496  [('pearTV', 2), ('Candle Inferno', 2), ('Toshi...      22120.0   \n",
              "497  [('pearTV', 1), ('Alcon 10', 1), ('Lucent 330S...      16490.0   \n",
              "498  [('iStream', 1), ('Candle Inferno', 1), ('iAss...       5030.0   \n",
              "499  [('iStream', 1), ('Toshika 750', 1), ('Alcon 1...      22370.0   \n",
              "\n",
              "     delivery_charges  customer_lat  customer_long  coupon_discount  \\\n",
              "0               79.89    -37.815105     144.932843               10   \n",
              "1               62.71    -37.802736     144.951118                0   \n",
              "2               65.87    -37.821302     144.957581               10   \n",
              "3               57.61    -37.811416     144.973073               15   \n",
              "4               75.54     37.823859     144.969892               25   \n",
              "..                ...           ...            ...              ...   \n",
              "495             59.70    -37.817662     144.970405               10   \n",
              "496             62.29    -37.815469     144.968083                0   \n",
              "497            106.98    -37.805979     144.966101                0   \n",
              "498             79.89     37.820071     144.984435               10   \n",
              "499             64.62    -37.812231     144.988679               15   \n",
              "\n",
              "    order_total  season  is_expedited_delivery  distance_to_nearest_warehouse  \\\n",
              "0      11059.89  Winter                   True                         1.2800   \n",
              "1       9142.71  Summer                  False                         1.1621   \n",
              "2       9668.87  Autumn                  False                         1.0949   \n",
              "3      21137.61  Summer                  False                         0.8571   \n",
              "4       6934.29  Spring                  False                         0.5867   \n",
              "..          ...     ...                    ...                            ...   \n",
              "495     20174.7  Winter                   True                         0.1282   \n",
              "496    22182.29  Autumn                   True                         0.3711   \n",
              "497    16596.98  Spring                   True                         1.4368   \n",
              "498     4606.89  Autumn                   True                         1.3191   \n",
              "499    19079.12  Autumn                   True                         0.6277   \n",
              "\n",
              "                                latest_customer_review  is_happy_customer  \n",
              "0    perfect phone and trusted seller. phone itself...               True  \n",
              "1    it keeps dropping calls the wifi don't work th...              False  \n",
              "2              five stars this is a great cheap phone.               True  \n",
              "3          charger did not fit the charger didn't fit.              False  \n",
              "4                                      four stars good               True  \n",
              "..                                                 ...                ...  \n",
              "495  i bought this phone to send to my sister in .....              False  \n",
              "496                    one star it was the wrong phone              False  \n",
              "497          love this phone! has many great features!               True  \n",
              "498  spoiled son's birthday present son wanted one ...               True  \n",
              "499  two stars the phone is way smaller then it loo...              False  \n",
              "\n",
              "[493 rows x 16 columns]"
            ],
            "text/html": [
              "\n",
              "  <div id=\"df-95a1567c-9c78-4859-b5dd-e1dd5c5b5c7f\">\n",
              "    <div class=\"colab-df-container\">\n",
              "      <div>\n",
              "<style scoped>\n",
              "    .dataframe tbody tr th:only-of-type {\n",
              "        vertical-align: middle;\n",
              "    }\n",
              "\n",
              "    .dataframe tbody tr th {\n",
              "        vertical-align: top;\n",
              "    }\n",
              "\n",
              "    .dataframe thead th {\n",
              "        text-align: right;\n",
              "    }\n",
              "</style>\n",
              "<table border=\"1\" class=\"dataframe\">\n",
              "  <thead>\n",
              "    <tr style=\"text-align: right;\">\n",
              "      <th></th>\n",
              "      <th>order_id</th>\n",
              "      <th>customer_id</th>\n",
              "      <th>date</th>\n",
              "      <th>nearest_warehouse</th>\n",
              "      <th>shopping_cart</th>\n",
              "      <th>order_price</th>\n",
              "      <th>delivery_charges</th>\n",
              "      <th>customer_lat</th>\n",
              "      <th>customer_long</th>\n",
              "      <th>coupon_discount</th>\n",
              "      <th>order_total</th>\n",
              "      <th>season</th>\n",
              "      <th>is_expedited_delivery</th>\n",
              "      <th>distance_to_nearest_warehouse</th>\n",
              "      <th>latest_customer_review</th>\n",
              "      <th>is_happy_customer</th>\n",
              "    </tr>\n",
              "  </thead>\n",
              "  <tbody>\n",
              "    <tr>\n",
              "      <th>0</th>\n",
              "      <td>ORD182494</td>\n",
              "      <td>ID6197211592</td>\n",
              "      <td>2019-06-22</td>\n",
              "      <td>Thompson</td>\n",
              "      <td>[('Lucent 330S', 1), ('Thunder line', 2), ('iS...</td>\n",
              "      <td>12200.0</td>\n",
              "      <td>79.89</td>\n",
              "      <td>-37.815105</td>\n",
              "      <td>144.932843</td>\n",
              "      <td>10</td>\n",
              "      <td>11059.89</td>\n",
              "      <td>Winter</td>\n",
              "      <td>True</td>\n",
              "      <td>1.2800</td>\n",
              "      <td>perfect phone and trusted seller. phone itself...</td>\n",
              "      <td>True</td>\n",
              "    </tr>\n",
              "    <tr>\n",
              "      <th>1</th>\n",
              "      <td>ORD395518</td>\n",
              "      <td>ID0282825849</td>\n",
              "      <td>2019-12-29</td>\n",
              "      <td>Thompson</td>\n",
              "      <td>[('Thunder line', 1), ('Universe Note', 2)]</td>\n",
              "      <td>9080.0</td>\n",
              "      <td>62.71</td>\n",
              "      <td>-37.802736</td>\n",
              "      <td>144.951118</td>\n",
              "      <td>0</td>\n",
              "      <td>9142.71</td>\n",
              "      <td>Summer</td>\n",
              "      <td>False</td>\n",
              "      <td>1.1621</td>\n",
              "      <td>it keeps dropping calls the wifi don't work th...</td>\n",
              "      <td>False</td>\n",
              "    </tr>\n",
              "    <tr>\n",
              "      <th>2</th>\n",
              "      <td>ORD494479</td>\n",
              "      <td>ID0579391891</td>\n",
              "      <td>2019-02-03</td>\n",
              "      <td>Nickolson</td>\n",
              "      <td>[('Thunder line', 1), ('pearTV', 2)]</td>\n",
              "      <td>10670.0</td>\n",
              "      <td>65.87</td>\n",
              "      <td>-37.821302</td>\n",
              "      <td>144.957581</td>\n",
              "      <td>10</td>\n",
              "      <td>9668.87</td>\n",
              "      <td>Autumn</td>\n",
              "      <td>False</td>\n",
              "      <td>1.0949</td>\n",
              "      <td>five stars this is a great cheap phone.</td>\n",
              "      <td>True</td>\n",
              "    </tr>\n",
              "    <tr>\n",
              "      <th>3</th>\n",
              "      <td>ORD019224</td>\n",
              "      <td>ID4544561904</td>\n",
              "      <td>2019-12-01</td>\n",
              "      <td>Nickolson</td>\n",
              "      <td>[('Universe Note', 1), ('Alcon 10', 2), ('Oliv...</td>\n",
              "      <td>24800.0</td>\n",
              "      <td>57.61</td>\n",
              "      <td>-37.811416</td>\n",
              "      <td>144.973073</td>\n",
              "      <td>15</td>\n",
              "      <td>21137.61</td>\n",
              "      <td>Summer</td>\n",
              "      <td>False</td>\n",
              "      <td>0.8571</td>\n",
              "      <td>charger did not fit the charger didn't fit.</td>\n",
              "      <td>False</td>\n",
              "    </tr>\n",
              "    <tr>\n",
              "      <th>4</th>\n",
              "      <td>ORD104032</td>\n",
              "      <td>ID6231506320</td>\n",
              "      <td>2019-11-28</td>\n",
              "      <td>Nickolson</td>\n",
              "      <td>[('Universe Note', 1), ('Olivia x460', 1), ('i...</td>\n",
              "      <td>9145.0</td>\n",
              "      <td>75.54</td>\n",
              "      <td>37.823859</td>\n",
              "      <td>144.969892</td>\n",
              "      <td>25</td>\n",
              "      <td>6934.29</td>\n",
              "      <td>Spring</td>\n",
              "      <td>False</td>\n",
              "      <td>0.5867</td>\n",
              "      <td>four stars good</td>\n",
              "      <td>True</td>\n",
              "    </tr>\n",
              "    <tr>\n",
              "      <th>...</th>\n",
              "      <td>...</td>\n",
              "      <td>...</td>\n",
              "      <td>...</td>\n",
              "      <td>...</td>\n",
              "      <td>...</td>\n",
              "      <td>...</td>\n",
              "      <td>...</td>\n",
              "      <td>...</td>\n",
              "      <td>...</td>\n",
              "      <td>...</td>\n",
              "      <td>...</td>\n",
              "      <td>...</td>\n",
              "      <td>...</td>\n",
              "      <td>...</td>\n",
              "      <td>...</td>\n",
              "      <td>...</td>\n",
              "    </tr>\n",
              "    <tr>\n",
              "      <th>495</th>\n",
              "      <td>ORD475510</td>\n",
              "      <td>ID0247417082</td>\n",
              "      <td>2019-07-08</td>\n",
              "      <td>Nickolson</td>\n",
              "      <td>[('Alcon 10', 2), ('iAssist Line', 2)]</td>\n",
              "      <td>386776.0</td>\n",
              "      <td>59.70</td>\n",
              "      <td>-37.817662</td>\n",
              "      <td>144.970405</td>\n",
              "      <td>10</td>\n",
              "      <td>20174.7</td>\n",
              "      <td>Winter</td>\n",
              "      <td>True</td>\n",
              "      <td>0.1282</td>\n",
              "      <td>i bought this phone to send to my sister in .....</td>\n",
              "      <td>False</td>\n",
              "    </tr>\n",
              "    <tr>\n",
              "      <th>496</th>\n",
              "      <td>ORD086060</td>\n",
              "      <td>ID0130015098</td>\n",
              "      <td>2019-03-28</td>\n",
              "      <td>Nickolson</td>\n",
              "      <td>[('pearTV', 2), ('Candle Inferno', 2), ('Toshi...</td>\n",
              "      <td>22120.0</td>\n",
              "      <td>62.29</td>\n",
              "      <td>-37.815469</td>\n",
              "      <td>144.968083</td>\n",
              "      <td>0</td>\n",
              "      <td>22182.29</td>\n",
              "      <td>Autumn</td>\n",
              "      <td>True</td>\n",
              "      <td>0.3711</td>\n",
              "      <td>one star it was the wrong phone</td>\n",
              "      <td>False</td>\n",
              "    </tr>\n",
              "    <tr>\n",
              "      <th>497</th>\n",
              "      <td>ORD079320</td>\n",
              "      <td>ID2707985442</td>\n",
              "      <td>2019-10-16</td>\n",
              "      <td>Nickolson</td>\n",
              "      <td>[('pearTV', 1), ('Alcon 10', 1), ('Lucent 330S...</td>\n",
              "      <td>16490.0</td>\n",
              "      <td>106.98</td>\n",
              "      <td>-37.805979</td>\n",
              "      <td>144.966101</td>\n",
              "      <td>0</td>\n",
              "      <td>16596.98</td>\n",
              "      <td>Spring</td>\n",
              "      <td>True</td>\n",
              "      <td>1.4368</td>\n",
              "      <td>love this phone! has many great features!</td>\n",
              "      <td>True</td>\n",
              "    </tr>\n",
              "    <tr>\n",
              "      <th>498</th>\n",
              "      <td>ORD026546</td>\n",
              "      <td>ID0060088412</td>\n",
              "      <td>2019-05-19</td>\n",
              "      <td>Nickolson</td>\n",
              "      <td>[('iStream', 1), ('Candle Inferno', 1), ('iAss...</td>\n",
              "      <td>5030.0</td>\n",
              "      <td>79.89</td>\n",
              "      <td>37.820071</td>\n",
              "      <td>144.984435</td>\n",
              "      <td>10</td>\n",
              "      <td>4606.89</td>\n",
              "      <td>Autumn</td>\n",
              "      <td>True</td>\n",
              "      <td>1.3191</td>\n",
              "      <td>spoiled son's birthday present son wanted one ...</td>\n",
              "      <td>True</td>\n",
              "    </tr>\n",
              "    <tr>\n",
              "      <th>499</th>\n",
              "      <td>ORD085447</td>\n",
              "      <td>ID5257193650</td>\n",
              "      <td>2019-05-25</td>\n",
              "      <td>Bakers</td>\n",
              "      <td>[('iStream', 1), ('Toshika 750', 1), ('Alcon 1...</td>\n",
              "      <td>22370.0</td>\n",
              "      <td>64.62</td>\n",
              "      <td>-37.812231</td>\n",
              "      <td>144.988679</td>\n",
              "      <td>15</td>\n",
              "      <td>19079.12</td>\n",
              "      <td>Autumn</td>\n",
              "      <td>True</td>\n",
              "      <td>0.6277</td>\n",
              "      <td>two stars the phone is way smaller then it loo...</td>\n",
              "      <td>False</td>\n",
              "    </tr>\n",
              "  </tbody>\n",
              "</table>\n",
              "<p>493 rows × 16 columns</p>\n",
              "</div>\n",
              "      <button class=\"colab-df-convert\" onclick=\"convertToInteractive('df-95a1567c-9c78-4859-b5dd-e1dd5c5b5c7f')\"\n",
              "              title=\"Convert this dataframe to an interactive table.\"\n",
              "              style=\"display:none;\">\n",
              "        \n",
              "  <svg xmlns=\"http://www.w3.org/2000/svg\" height=\"24px\"viewBox=\"0 0 24 24\"\n",
              "       width=\"24px\">\n",
              "    <path d=\"M0 0h24v24H0V0z\" fill=\"none\"/>\n",
              "    <path d=\"M18.56 5.44l.94 2.06.94-2.06 2.06-.94-2.06-.94-.94-2.06-.94 2.06-2.06.94zm-11 1L8.5 8.5l.94-2.06 2.06-.94-2.06-.94L8.5 2.5l-.94 2.06-2.06.94zm10 10l.94 2.06.94-2.06 2.06-.94-2.06-.94-.94-2.06-.94 2.06-2.06.94z\"/><path d=\"M17.41 7.96l-1.37-1.37c-.4-.4-.92-.59-1.43-.59-.52 0-1.04.2-1.43.59L10.3 9.45l-7.72 7.72c-.78.78-.78 2.05 0 2.83L4 21.41c.39.39.9.59 1.41.59.51 0 1.02-.2 1.41-.59l7.78-7.78 2.81-2.81c.8-.78.8-2.07 0-2.86zM5.41 20L4 18.59l7.72-7.72 1.47 1.35L5.41 20z\"/>\n",
              "  </svg>\n",
              "      </button>\n",
              "      \n",
              "  <style>\n",
              "    .colab-df-container {\n",
              "      display:flex;\n",
              "      flex-wrap:wrap;\n",
              "      gap: 12px;\n",
              "    }\n",
              "\n",
              "    .colab-df-convert {\n",
              "      background-color: #E8F0FE;\n",
              "      border: none;\n",
              "      border-radius: 50%;\n",
              "      cursor: pointer;\n",
              "      display: none;\n",
              "      fill: #1967D2;\n",
              "      height: 32px;\n",
              "      padding: 0 0 0 0;\n",
              "      width: 32px;\n",
              "    }\n",
              "\n",
              "    .colab-df-convert:hover {\n",
              "      background-color: #E2EBFA;\n",
              "      box-shadow: 0px 1px 2px rgba(60, 64, 67, 0.3), 0px 1px 3px 1px rgba(60, 64, 67, 0.15);\n",
              "      fill: #174EA6;\n",
              "    }\n",
              "\n",
              "    [theme=dark] .colab-df-convert {\n",
              "      background-color: #3B4455;\n",
              "      fill: #D2E3FC;\n",
              "    }\n",
              "\n",
              "    [theme=dark] .colab-df-convert:hover {\n",
              "      background-color: #434B5C;\n",
              "      box-shadow: 0px 1px 3px 1px rgba(0, 0, 0, 0.15);\n",
              "      filter: drop-shadow(0px 1px 2px rgba(0, 0, 0, 0.3));\n",
              "      fill: #FFFFFF;\n",
              "    }\n",
              "  </style>\n",
              "\n",
              "      <script>\n",
              "        const buttonEl =\n",
              "          document.querySelector('#df-95a1567c-9c78-4859-b5dd-e1dd5c5b5c7f button.colab-df-convert');\n",
              "        buttonEl.style.display =\n",
              "          google.colab.kernel.accessAllowed ? 'block' : 'none';\n",
              "\n",
              "        async function convertToInteractive(key) {\n",
              "          const element = document.querySelector('#df-95a1567c-9c78-4859-b5dd-e1dd5c5b5c7f');\n",
              "          const dataTable =\n",
              "            await google.colab.kernel.invokeFunction('convertToInteractive',\n",
              "                                                     [key], {});\n",
              "          if (!dataTable) return;\n",
              "\n",
              "          const docLinkHtml = 'Like what you see? Visit the ' +\n",
              "            '<a target=\"_blank\" href=https://colab.research.google.com/notebooks/data_table.ipynb>data table notebook</a>'\n",
              "            + ' to learn more about interactive tables.';\n",
              "          element.innerHTML = '';\n",
              "          dataTable['output_type'] = 'display_data';\n",
              "          await google.colab.output.renderOutput(dataTable, element);\n",
              "          const docLink = document.createElement('div');\n",
              "          docLink.innerHTML = docLinkHtml;\n",
              "          element.appendChild(docLink);\n",
              "        }\n",
              "      </script>\n",
              "    </div>\n",
              "  </div>\n",
              "  "
            ]
          },
          "metadata": {},
          "execution_count": 27
        }
      ]
    },
    {
      "cell_type": "code",
      "source": [
        "# Replacing anything from column containing ALphabet or special character.\n",
        "dirty_data['order_total']= dirty_data['order_total'].str.replace('[a-zA-Z\\W]', '')\n"
      ],
      "metadata": {
        "id": "9F47doy9etPy",
        "colab": {
          "base_uri": "https://localhost:8080/"
        },
        "outputId": "f152597c-b2c1-4510-cdc6-55e6f6af66f4"
      },
      "execution_count": 28,
      "outputs": [
        {
          "output_type": "stream",
          "name": "stderr",
          "text": [
            "<ipython-input-28-f90ff9c9899a>:2: FutureWarning: The default value of regex will change from True to False in a future version.\n",
            "  dirty_data['order_total']= dirty_data['order_total'].str.replace('[a-zA-Z\\W]', '')\n"
          ]
        }
      ]
    },
    {
      "cell_type": "code",
      "source": [
        "dirty_data.info()"
      ],
      "metadata": {
        "id": "hsZ0ipEbetSZ",
        "colab": {
          "base_uri": "https://localhost:8080/"
        },
        "outputId": "c64c7862-2419-4f29-801f-e1558f8d71cb"
      },
      "execution_count": 31,
      "outputs": [
        {
          "output_type": "stream",
          "name": "stdout",
          "text": [
            "<class 'pandas.core.frame.DataFrame'>\n",
            "RangeIndex: 500 entries, 0 to 499\n",
            "Data columns (total 16 columns):\n",
            " #   Column                         Non-Null Count  Dtype         \n",
            "---  ------                         --------------  -----         \n",
            " 0   order_id                       500 non-null    object        \n",
            " 1   customer_id                    500 non-null    object        \n",
            " 2   date                           500 non-null    datetime64[ns]\n",
            " 3   nearest_warehouse              500 non-null    object        \n",
            " 4   shopping_cart                  500 non-null    object        \n",
            " 5   order_price                    500 non-null    float64       \n",
            " 6   delivery_charges               500 non-null    float64       \n",
            " 7   customer_lat                   500 non-null    float64       \n",
            " 8   customer_long                  500 non-null    float64       \n",
            " 9   coupon_discount                500 non-null    int64         \n",
            " 10  order_total                    500 non-null    object        \n",
            " 11  season                         500 non-null    object        \n",
            " 12  is_expedited_delivery          500 non-null    bool          \n",
            " 13  distance_to_nearest_warehouse  500 non-null    float64       \n",
            " 14  latest_customer_review         500 non-null    object        \n",
            " 15  is_happy_customer              500 non-null    bool          \n",
            "dtypes: bool(2), datetime64[ns](1), float64(5), int64(1), object(7)\n",
            "memory usage: 55.8+ KB\n"
          ]
        }
      ]
    },
    {
      "cell_type": "code",
      "source": [],
      "metadata": {
        "id": "fH_-hFq8etVc"
      },
      "execution_count": 15,
      "outputs": []
    },
    {
      "cell_type": "code",
      "source": [],
      "metadata": {
        "id": "fSYWVXlGetYL"
      },
      "execution_count": 15,
      "outputs": []
    },
    {
      "cell_type": "code",
      "source": [],
      "metadata": {
        "id": "xV2XEwvcetbC"
      },
      "execution_count": 15,
      "outputs": []
    },
    {
      "cell_type": "code",
      "source": [],
      "metadata": {
        "id": "vNYiK1IIetdl"
      },
      "execution_count": 15,
      "outputs": []
    },
    {
      "cell_type": "code",
      "source": [],
      "metadata": {
        "id": "d4qLXgycetg1"
      },
      "execution_count": 15,
      "outputs": []
    },
    {
      "cell_type": "code",
      "source": [],
      "metadata": {
        "id": "3-yHY6GHetjV"
      },
      "execution_count": 15,
      "outputs": []
    },
    {
      "cell_type": "code",
      "source": [],
      "metadata": {
        "id": "ugfjSQUhetl9"
      },
      "execution_count": 15,
      "outputs": []
    },
    {
      "cell_type": "code",
      "source": [],
      "metadata": {
        "id": "OGgHftQpetqt"
      },
      "execution_count": 15,
      "outputs": []
    },
    {
      "cell_type": "code",
      "source": [],
      "metadata": {
        "id": "Np1BJ0y7etuj"
      },
      "execution_count": 15,
      "outputs": []
    },
    {
      "cell_type": "code",
      "source": [],
      "metadata": {
        "id": "chpHW4sOetxJ"
      },
      "execution_count": 15,
      "outputs": []
    },
    {
      "cell_type": "code",
      "source": [],
      "metadata": {
        "id": "yKXZXThOetz6"
      },
      "execution_count": 15,
      "outputs": []
    },
    {
      "cell_type": "code",
      "source": [],
      "metadata": {
        "id": "CKE5lrwAet3G"
      },
      "execution_count": 15,
      "outputs": []
    },
    {
      "cell_type": "code",
      "source": [],
      "metadata": {
        "id": "c4tHfeXAet6R"
      },
      "execution_count": 15,
      "outputs": []
    },
    {
      "cell_type": "code",
      "source": [],
      "metadata": {
        "id": "YzdZMWy8et9B"
      },
      "execution_count": 15,
      "outputs": []
    },
    {
      "cell_type": "code",
      "source": [],
      "metadata": {
        "id": "AzHlaEJeet_t"
      },
      "execution_count": 15,
      "outputs": []
    },
    {
      "cell_type": "code",
      "source": [],
      "metadata": {
        "id": "T5rLPx8teuCb"
      },
      "execution_count": 15,
      "outputs": []
    },
    {
      "cell_type": "code",
      "source": [],
      "metadata": {
        "id": "XjY533T5euFy"
      },
      "execution_count": 15,
      "outputs": []
    },
    {
      "cell_type": "code",
      "source": [],
      "metadata": {
        "id": "HhAKkX8leuIi"
      },
      "execution_count": 15,
      "outputs": []
    },
    {
      "cell_type": "code",
      "source": [],
      "metadata": {
        "id": "IWV4MkvHeuLP"
      },
      "execution_count": 15,
      "outputs": []
    },
    {
      "cell_type": "code",
      "source": [],
      "metadata": {
        "id": "nBfWz5eueuOL"
      },
      "execution_count": 15,
      "outputs": []
    },
    {
      "cell_type": "code",
      "source": [],
      "metadata": {
        "id": "gy08uAkqeuQ8"
      },
      "execution_count": 15,
      "outputs": []
    },
    {
      "cell_type": "code",
      "source": [],
      "metadata": {
        "id": "zDWPzjk1euT7"
      },
      "execution_count": 15,
      "outputs": []
    },
    {
      "cell_type": "code",
      "source": [],
      "metadata": {
        "id": "2OyxY31aeuW1"
      },
      "execution_count": 15,
      "outputs": []
    },
    {
      "cell_type": "code",
      "source": [],
      "metadata": {
        "id": "xypnBgI-euaV"
      },
      "execution_count": 15,
      "outputs": []
    },
    {
      "cell_type": "code",
      "source": [],
      "metadata": {
        "id": "XEbftJyseudJ"
      },
      "execution_count": 15,
      "outputs": []
    },
    {
      "cell_type": "code",
      "source": [],
      "metadata": {
        "id": "7xs8PJ55eui1"
      },
      "execution_count": 15,
      "outputs": []
    },
    {
      "cell_type": "code",
      "source": [],
      "metadata": {
        "id": "Wmtg_8greuql"
      },
      "execution_count": 15,
      "outputs": []
    },
    {
      "cell_type": "code",
      "source": [],
      "metadata": {
        "id": "rzmHNIoIeuun"
      },
      "execution_count": 15,
      "outputs": []
    },
    {
      "cell_type": "code",
      "source": [],
      "metadata": {
        "id": "HY0hQTkJeuxn"
      },
      "execution_count": 15,
      "outputs": []
    },
    {
      "cell_type": "code",
      "source": [],
      "metadata": {
        "id": "PLiIy5I4eu1L"
      },
      "execution_count": 15,
      "outputs": []
    },
    {
      "cell_type": "code",
      "source": [],
      "metadata": {
        "id": "XzPlUP3Ueu5C"
      },
      "execution_count": 15,
      "outputs": []
    },
    {
      "cell_type": "code",
      "source": [],
      "metadata": {
        "id": "CEhuuSvNeu72"
      },
      "execution_count": 15,
      "outputs": []
    },
    {
      "cell_type": "code",
      "source": [],
      "metadata": {
        "id": "LsQ6Lobgeu_B"
      },
      "execution_count": 15,
      "outputs": []
    },
    {
      "cell_type": "code",
      "source": [],
      "metadata": {
        "id": "jQyrLym-evCi"
      },
      "execution_count": 15,
      "outputs": []
    },
    {
      "cell_type": "code",
      "source": [],
      "metadata": {
        "id": "PzK_hKYXevGI"
      },
      "execution_count": 15,
      "outputs": []
    },
    {
      "cell_type": "code",
      "source": [],
      "metadata": {
        "id": "pDXseou2evLi"
      },
      "execution_count": 15,
      "outputs": []
    },
    {
      "cell_type": "code",
      "source": [],
      "metadata": {
        "id": "BUvHGCCcevPC"
      },
      "execution_count": 15,
      "outputs": []
    },
    {
      "cell_type": "code",
      "source": [],
      "metadata": {
        "id": "Sos1t4DZevTc"
      },
      "execution_count": 15,
      "outputs": []
    },
    {
      "cell_type": "code",
      "source": [],
      "metadata": {
        "id": "uA6rASdAevW1"
      },
      "execution_count": 15,
      "outputs": []
    },
    {
      "cell_type": "code",
      "source": [],
      "metadata": {
        "id": "9t1Q1Xv6evbZ"
      },
      "execution_count": 15,
      "outputs": []
    },
    {
      "cell_type": "code",
      "source": [],
      "metadata": {
        "id": "Mh_7D1RFeveu"
      },
      "execution_count": 15,
      "outputs": []
    },
    {
      "cell_type": "code",
      "source": [],
      "metadata": {
        "id": "bujAfSeueviU"
      },
      "execution_count": 15,
      "outputs": []
    },
    {
      "cell_type": "code",
      "source": [],
      "metadata": {
        "id": "n32ePuSfevlp"
      },
      "execution_count": 15,
      "outputs": []
    },
    {
      "cell_type": "code",
      "source": [],
      "metadata": {
        "id": "B8sNV4Jyevoz"
      },
      "execution_count": 15,
      "outputs": []
    },
    {
      "cell_type": "code",
      "source": [],
      "metadata": {
        "id": "Kqf5ajdhevrz"
      },
      "execution_count": 15,
      "outputs": []
    },
    {
      "cell_type": "code",
      "source": [],
      "metadata": {
        "id": "UDmGKdTuevuq"
      },
      "execution_count": 15,
      "outputs": []
    },
    {
      "cell_type": "code",
      "source": [],
      "metadata": {
        "id": "8ZxegmBmevxh"
      },
      "execution_count": 15,
      "outputs": []
    },
    {
      "cell_type": "code",
      "source": [],
      "metadata": {
        "id": "b6rYPavvY6M8"
      },
      "execution_count": 15,
      "outputs": []
    },
    {
      "cell_type": "code",
      "source": [],
      "metadata": {
        "id": "eCftA1mzY6PM"
      },
      "execution_count": 15,
      "outputs": []
    }
  ]
}